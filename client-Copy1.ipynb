{
 "cells": [
  {
   "cell_type": "code",
   "execution_count": 1,
   "id": "d2f9d3b2",
   "metadata": {
    "scrolled": true
   },
   "outputs": [],
   "source": [
    "# def checkResp(Res,rq_ResFn,rq_ResSFn):\n",
    "#     Res = Res.decode()\n",
    "#     Res_Fn = Res[0]+Res[1]\n",
    "#     Res_SFn = Res[3]+Res[4]\n",
    "# a= 8\n",
    "# len(str(a))\n",
    "from Crypto.Cipher import AES\n",
    "from Crypto.Random import get_random_bytes\n",
    "from Crypto.Util.Padding import pad, unpad\n",
    "\n",
    "def encrypt_AES(Cryptkey, data):\n",
    "    print(data)\n",
    "    print(len(data))\n",
    "    data = bytes.fromhex(data)\n",
    "    cipher = AES.new(Cryptkey, AES.MODE_CBC)\n",
    "    ciphertext = cipher.encrypt(pad(data, AES.block_size))\n",
    "    iv = cipher.iv\n",
    "    return iv + ciphertext\n",
    "\n",
    "def decrypt_AES(key, encrypted_data):\n",
    "    iv = encrypted_data[:AES.block_size]\n",
    "    ciphertext = encrypted_data[AES.block_size:]\n",
    "    cipher = AES.new(key, AES.MODE_CBC, iv)\n",
    "    plaintext = unpad(cipher.decrypt(ciphertext), AES.block_size)\n",
    "    return plaintext\n",
    "\n",
    "# Example usage\n",
    "# key = get_random_bytes(16)  # 16 bytes key for AES-128\n",
    "Cryptkey = b'\\xb9t5RR\\x9d\\x1d+\\xaa\\xa3\\xd1}\\xfb\\x1a\\x1d\\xcb'\n",
    "# data = b\"Hello, world! This is AES encryption example.\"\n",
    "\n",
    "# encrypted_data = encrypt_AES(key, data)\n",
    "# print(\"Encrypted data:\", encrypted_data)\n",
    "\n",
    "# decrypted_data = decrypt_AES(key, encrypted_data)\n",
    "# print(\"Decrypted data:\", decrypted_data.decode())"
   ]
  },
  {
   "cell_type": "code",
   "execution_count": 2,
   "id": "63293576",
   "metadata": {},
   "outputs": [],
   "source": [
    "# print(decrypt_AES(Cryptkey,encrypt_AES(Cryptkey,Cryptkey)))"
   ]
  },
  {
   "cell_type": "code",
   "execution_count": 3,
   "id": "d7bd4571",
   "metadata": {},
   "outputs": [],
   "source": [
    "def KeyGen(seed):\n",
    "    global Cryptkey\n",
    "    return encrypt_AES(Cryptkey, seed).hex()\n",
    "def ValLevel(lvl):\n",
    "    if len(lvl)==1:\n",
    "        return '0'+lvl\n",
    "    else:\n",
    "        return lvl\n",
    "def ExtractKS (from_server, secAccLvl):\n",
    "#     print(from_server[0:2])\n",
    "\n",
    "    if from_server[0:2]  == '67' and int(from_server[3:5])%2 == 0: \n",
    "        print(from_server)\n",
    "        print('ECU unlocked sucessfully')\n",
    "        return 1\n",
    "    if from_server[0:2]  == '67' and int(from_server[3:5])%2 == 1:\n",
    "        return '27 ' + ValLevel(str(secAccLvl+1)) + ' '+KeyGen(from_server[6:len(from_server)])\n",
    "    return -1\n",
    "# print(ExtractKS('67 01 67 68 69'))"
   ]
  },
  {
   "cell_type": "code",
   "execution_count": 4,
   "id": "2e5142e2",
   "metadata": {
    "scrolled": true
   },
   "outputs": [
    {
     "name": "stdout",
     "output_type": "stream",
     "text": [
      "ECU Connected\n",
      "27 07\n",
      "67 07 387f3460\n",
      "387f3460\n",
      "8\n",
      "27 08 0f051d30869256481ba12b425ddbe87d9fa1340df57d8c8b1ecf895bb8708632\n",
      "67 08\n",
      "ECU unlocked sucessfully\n"
     ]
    }
   ],
   "source": [
    "import socket\n",
    "client = socket.socket(socket.AF_INET, socket.SOCK_STREAM)\n",
    "client.connect(('127.0.0.1', 8080))\n",
    "closeCon = 0\n",
    "client.send(\"Tester Connected\\n\".encode())\n",
    "secAccLvl = '07'\n",
    "while closeCon ==0 :\n",
    "    from_server = client.recv(4096)\n",
    "    if from_server.decode() == 'End':\n",
    "        closeCon = 1\n",
    "        break\n",
    "    print (from_server.decode())\n",
    "    if int(secAccLvl)%2 == 1:\n",
    "        resp = '27 '+ secAccLvl\n",
    "        print(resp)\n",
    "        client.send(resp.encode())\n",
    "        from_server = client.recv(4096).decode()\n",
    "        print (from_server)\n",
    "    resp = ExtractKS(from_server,int(secAccLvl))\n",
    "    if resp == -1:\n",
    "        print('error in message Fn or SubFn')\n",
    "        closeCon = 1\n",
    "        client.send(resp.encode())\n",
    "        break\n",
    "    elif resp == 1:\n",
    "        print(\"ECU Unlocked\")\n",
    "        closeCon = 1\n",
    "        client.send(resp.encode())\n",
    "        break\n",
    "    else:\n",
    "        secAccLvl = str(int(secAccLvl)+1)\n",
    "        closeCon = 1\n",
    "        print(resp)\n",
    "        client.send(resp.encode())\n",
    "        from_server = client.recv(4096).decode()\n",
    "        resp = ExtractKS(from_server,int(secAccLvl))\n",
    "client.close()\n",
    "\n"
   ]
  },
  {
   "cell_type": "code",
   "execution_count": null,
   "id": "f4bb16d9",
   "metadata": {},
   "outputs": [],
   "source": [
    "from_server = '213456789'\n",
    "print(from_server[5:9])"
   ]
  },
  {
   "cell_type": "code",
   "execution_count": null,
   "id": "e074b23e",
   "metadata": {},
   "outputs": [],
   "source": [
    "# ExtractKS('67 01 51 52 54')\n",
    "# def ExtractKS (from_server):\n",
    "#     if from_server[0:1]  == '67' and int(from_server[3:4])%2 == 0: \n",
    "#         return from_server[5:len(from_server)]\n",
    "#     if from_server[0:1]  == '27' and int(from_server[3:4])%2 == 1:\n",
    "#         return from_server[5:len(from_server)]\n",
    "#     return 0"
   ]
  },
  {
   "cell_type": "code",
   "execution_count": null,
   "id": "92a09d95",
   "metadata": {},
   "outputs": [],
   "source": []
  }
 ],
 "metadata": {
  "kernelspec": {
   "display_name": "Python 3 (ipykernel)",
   "language": "python",
   "name": "python3"
  },
  "language_info": {
   "codemirror_mode": {
    "name": "ipython",
    "version": 3
   },
   "file_extension": ".py",
   "mimetype": "text/x-python",
   "name": "python",
   "nbconvert_exporter": "python",
   "pygments_lexer": "ipython3",
   "version": "3.9.7"
  }
 },
 "nbformat": 4,
 "nbformat_minor": 5
}
