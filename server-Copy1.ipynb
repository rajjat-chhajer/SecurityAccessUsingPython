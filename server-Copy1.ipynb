{
 "cells": [
  {
   "cell_type": "code",
   "execution_count": 2,
   "id": "c4c85a7b",
   "metadata": {},
   "outputs": [],
   "source": [
    "Cryptkey = b'\\xb9t5RR\\x9d\\x1d+\\xaa\\xa3\\xd1}\\xfb\\x1a\\x1d\\xcb'\n",
    "from Crypto.Cipher import AES\n",
    "from Crypto.Random import get_random_bytes\n",
    "from Crypto.Util.Padding import pad, unpad\n",
    "\n",
    "def encrypt_AES(Cryptkey, data):\n",
    "    data = bytes.fromhex(data)\n",
    "    cipher = AES.new(Cryptkey, AES.MODE_CBC)\n",
    "    ciphertext = cipher.encrypt(pad(data, AES.block_size))\n",
    "    iv = cipher.iv\n",
    "    return iv + ciphertext\n",
    "\n",
    "def decrypt_AES(Cryptkey, encrypted_data):\n",
    "    encrypted_data = bytes.fromhex(encrypted_data)\n",
    "    iv = encrypted_data[:AES.block_size]\n",
    "    ciphertext = encrypted_data[AES.block_size:]\n",
    "    cipher = AES.new(Cryptkey, AES.MODE_CBC, iv)\n",
    "    plaintext = unpad(cipher.decrypt(ciphertext), AES.block_size)\n",
    "    return plaintext"
   ]
  },
  {
   "cell_type": "code",
   "execution_count": 3,
   "id": "67e8de66",
   "metadata": {},
   "outputs": [],
   "source": [
    "import numpy as np\n",
    "def SeedGenerator():\n",
    "    return get_random_bytes(4).hex()\n",
    "# SeedGenerator()\n",
    "# import os\n",
    "# print(os.urandom(1).hex())\n",
    "def ValLevel(lvl):\n",
    "    if len(lvl)==1:\n",
    "        return '0'+lvl\n",
    "    else:\n",
    "        return lvl"
   ]
  },
  {
   "cell_type": "code",
   "execution_count": 15,
   "id": "2479038d",
   "metadata": {},
   "outputs": [],
   "source": [
    "def SeedGen(seed):\n",
    "    global Cryptkey\n",
    "    print(type(seed))\n",
    "    return decrypt_AES(Cryptkey,seed).hex()\n",
    "def ValidateRequest(from_client, step,key=''):\n",
    "    secAccLvl = int(from_client[3:5])\n",
    "    if from_client[0:2] == '27' and secAccLvl%2==1:\n",
    "        if step == 0:\n",
    "            seed = SeedGenerator()\n",
    "            temp = '67 ' + ValLevel(str(secAccLvl)) + ' '+ seed\n",
    "            print(temp)\n",
    "            return [temp, seed]\n",
    "        else : \n",
    "            print(\"Wrong request\")\n",
    "            return ['End','']\n",
    "    if from_client[0:2] == '27' and secAccLvl%2==0 and key!='':\n",
    "        if step == 1 and key == SeedGen(from_client[6:len(from_client)]):\n",
    "            print('67 '+ ValLevel(str(secAccLvl)),'')\n",
    "            return ['67 '+ ValLevel(str(secAccLvl)),'']        \n",
    "        else : \n",
    "            print(\"Wrong request/key not matched/empty\")\n",
    "            return ['End','']\n",
    "    "
   ]
  },
  {
   "cell_type": "code",
   "execution_count": 16,
   "id": "daddc8d8",
   "metadata": {},
   "outputs": [
    {
     "name": "stdout",
     "output_type": "stream",
     "text": [
      "Tester Connected\n",
      "\n",
      "27 07\n",
      "67 07 387f3460\n",
      "27 08 0f051d30869256481ba12b425ddbe87d9fa1340df57d8c8b1ecf895bb8708632\n",
      "<class 'str'>\n",
      "67 08 \n",
      "ECU unlocked\n",
      "terminating connection\n"
     ]
    }
   ],
   "source": [
    "import socket\n",
    "serv = socket.socket(socket.AF_INET, socket.SOCK_STREAM)\n",
    "serv.bind(('0.0.0.0', 8080))\n",
    "serv.listen(5)\n",
    "a=0\n",
    "b =0\n",
    "while a==0:\n",
    "  conn, addr = serv.accept()\n",
    "  from_client = ''\n",
    "  step = 0\n",
    "  while b==0:\n",
    "    data = conn.recv(4096)\n",
    "    if not data: break\n",
    "    from_client = data.decode('utf8')\n",
    "    print (from_client)\n",
    "    msg = 'ECU Connected'\n",
    "    conn.send(msg.encode())\n",
    "    data = conn.recv(4096)\n",
    "    from_client = data.decode('utf8')\n",
    "    print (from_client)\n",
    "    resp = ValidateRequest(from_client,step,'')\n",
    "    seed = resp[1]\n",
    "    conn.send(resp[0].encode())\n",
    "    if resp[0] == 'End':\n",
    "        a=1\n",
    "        b=1\n",
    "        break\n",
    "    else: step = 1\n",
    "    data = conn.recv(4096)\n",
    "    from_client = data.decode('utf8')\n",
    "    print (from_client)\n",
    "    resp = ValidateRequest(from_client,step,seed)\n",
    "    conn.send(resp[0].encode())\n",
    "    if resp[0] == 'End':\n",
    "        a=1\n",
    "        b=1\n",
    "        break\n",
    "    else: \n",
    "        print(\"ECU unlocked\")\n",
    "        a = 1\n",
    "        b =1\n",
    "        break\n",
    "    \n",
    "  conn.close()\n",
    "print ('terminating connection')\n"
   ]
  },
  {
   "cell_type": "code",
   "execution_count": null,
   "id": "3d20ede8",
   "metadata": {},
   "outputs": [],
   "source": [
    "type(SeedGenerator())"
   ]
  },
  {
   "cell_type": "code",
   "execution_count": 29,
   "id": "5a4dffad",
   "metadata": {},
   "outputs": [
    {
     "ename": "UnicodeDecodeError",
     "evalue": "'ascii' codec can't decode byte 0xb9 in position 0: ordinal not in range(128)",
     "output_type": "error",
     "traceback": [
      "\u001b[1;31m---------------------------------------------------------------------------\u001b[0m",
      "\u001b[1;31mUnicodeDecodeError\u001b[0m                        Traceback (most recent call last)",
      "\u001b[1;32m~\\AppData\\Local\\Temp/ipykernel_22404/2021498892.py\u001b[0m in \u001b[0;36m<module>\u001b[1;34m\u001b[0m\n\u001b[1;32m----> 1\u001b[1;33m \u001b[0mCryptkey\u001b[0m\u001b[1;33m.\u001b[0m\u001b[0mdecode\u001b[0m\u001b[1;33m(\u001b[0m\u001b[1;34m\"ascii\"\u001b[0m\u001b[1;33m)\u001b[0m\u001b[1;33m\u001b[0m\u001b[1;33m\u001b[0m\u001b[0m\n\u001b[0m",
      "\u001b[1;31mUnicodeDecodeError\u001b[0m: 'ascii' codec can't decode byte 0xb9 in position 0: ordinal not in range(128)"
     ]
    }
   ],
   "source": []
  },
  {
   "cell_type": "code",
   "execution_count": 1,
   "id": "252a3f9c",
   "metadata": {},
   "outputs": [
    {
     "name": "stdout",
     "output_type": "stream",
     "text": [
      "{'v_no': 'x.509', 's_no': 101, 'sa_id': 'SHA-256', 'i_n': 'CA', 'v_start': datetime.datetime(2024, 1, 10, 5, 41, 25, 68971), 'v_stop': datetime.datetime(2025, 1, 9, 5, 41, 25, 68971), 's_n': 'ECU1', 's_PK': PublicKey(7593926193968197275178698352884260706973814238845672837113329567781120882207475389908256689896036158577205308970895300685638011937416035359453185277519439, 65537), 'ext': 2, 'sig': b'f\\xd7\\xb7{\\x9a\\x1a\\xccu\\x06\\x07\\xf2\\xdbQ(^\\x0cN\\xcc\\t)\\x07{:\\xee\\xd0D\\x86J\\x99\\xbb\\xec\\xa66\\xf7W\\xd4\\xbb\\x1e\\xe1Hq|\\xbf\\xbd\\xf6\\x92\\xc7L\\xe0d]\\xfe*\\x84z\\xb2\\xc6\\xeb|+\\xdc\\x84\\xe9\\x98'}\n"
     ]
    }
   ],
   "source": []
  },
  {
   "cell_type": "code",
   "execution_count": null,
   "id": "84ef03a6",
   "metadata": {},
   "outputs": [],
   "source": [
    "import pandas as pd\n",
    "Replayed = pd.DataFrame([])\n",
    "for _ in range(0,10):    \n",
    "    a = get_random_bytes(4).hex()\n",
    "    b = get_random_bytes(4).hex()\n",
    "    count = 0\n",
    "#     print(count)\n",
    "    while a != b:\n",
    "        b = get_random_bytes(4).hex()\n",
    "        count = count +1;\n",
    "    \n",
    "    Replayed = Replayed.append([count])"
   ]
  },
  {
   "cell_type": "code",
   "execution_count": null,
   "id": "0c59cfd2",
   "metadata": {},
   "outputs": [],
   "source": [
    "\n",
    "print('maximum number of iteration ',Replayed.max())\n",
    "print('minimum number of iteration',Replayed.min()) \n",
    "print('Average number of iteration', Replayed.mean())"
   ]
  },
  {
   "cell_type": "code",
   "execution_count": null,
   "id": "62c6249f",
   "metadata": {},
   "outputs": [],
   "source": [
    "print(Replayed.mean())\n",
    "pow(2,32)"
   ]
  },
  {
   "cell_type": "code",
   "execution_count": 70,
   "id": "f94f9338",
   "metadata": {},
   "outputs": [
    {
     "name": "stderr",
     "output_type": "stream",
     "text": [
      "C:\\Users\\A477967\\AppData\\Local\\Temp/ipykernel_2276/201914381.py:18: FutureWarning: The frame.append method is deprecated and will be removed from pandas in a future version. Use pandas.concat instead.\n",
      "  Replayed = Replayed.append([count])\n",
      "C:\\Users\\A477967\\AppData\\Local\\Temp/ipykernel_2276/201914381.py:18: FutureWarning: The frame.append method is deprecated and will be removed from pandas in a future version. Use pandas.concat instead.\n",
      "  Replayed = Replayed.append([count])\n",
      "C:\\Users\\A477967\\AppData\\Local\\Temp/ipykernel_2276/201914381.py:18: FutureWarning: The frame.append method is deprecated and will be removed from pandas in a future version. Use pandas.concat instead.\n",
      "  Replayed = Replayed.append([count])\n",
      "C:\\Users\\A477967\\AppData\\Local\\Temp/ipykernel_2276/201914381.py:18: FutureWarning: The frame.append method is deprecated and will be removed from pandas in a future version. Use pandas.concat instead.\n",
      "  Replayed = Replayed.append([count])\n",
      "C:\\Users\\A477967\\AppData\\Local\\Temp/ipykernel_2276/201914381.py:18: FutureWarning: The frame.append method is deprecated and will be removed from pandas in a future version. Use pandas.concat instead.\n",
      "  Replayed = Replayed.append([count])\n",
      "C:\\Users\\A477967\\AppData\\Local\\Temp/ipykernel_2276/201914381.py:18: FutureWarning: The frame.append method is deprecated and will be removed from pandas in a future version. Use pandas.concat instead.\n",
      "  Replayed = Replayed.append([count])\n",
      "C:\\Users\\A477967\\AppData\\Local\\Temp/ipykernel_2276/201914381.py:18: FutureWarning: The frame.append method is deprecated and will be removed from pandas in a future version. Use pandas.concat instead.\n",
      "  Replayed = Replayed.append([count])\n",
      "C:\\Users\\A477967\\AppData\\Local\\Temp/ipykernel_2276/201914381.py:18: FutureWarning: The frame.append method is deprecated and will be removed from pandas in a future version. Use pandas.concat instead.\n",
      "  Replayed = Replayed.append([count])\n",
      "C:\\Users\\A477967\\AppData\\Local\\Temp/ipykernel_2276/201914381.py:18: FutureWarning: The frame.append method is deprecated and will be removed from pandas in a future version. Use pandas.concat instead.\n",
      "  Replayed = Replayed.append([count])\n",
      "C:\\Users\\A477967\\AppData\\Local\\Temp/ipykernel_2276/201914381.py:18: FutureWarning: The frame.append method is deprecated and will be removed from pandas in a future version. Use pandas.concat instead.\n",
      "  Replayed = Replayed.append([count])\n",
      "C:\\Users\\A477967\\AppData\\Local\\Temp/ipykernel_2276/201914381.py:18: FutureWarning: The frame.append method is deprecated and will be removed from pandas in a future version. Use pandas.concat instead.\n",
      "  Replayed = Replayed.append([count])\n",
      "C:\\Users\\A477967\\AppData\\Local\\Temp/ipykernel_2276/201914381.py:18: FutureWarning: The frame.append method is deprecated and will be removed from pandas in a future version. Use pandas.concat instead.\n",
      "  Replayed = Replayed.append([count])\n",
      "C:\\Users\\A477967\\AppData\\Local\\Temp/ipykernel_2276/201914381.py:18: FutureWarning: The frame.append method is deprecated and will be removed from pandas in a future version. Use pandas.concat instead.\n",
      "  Replayed = Replayed.append([count])\n",
      "C:\\Users\\A477967\\AppData\\Local\\Temp/ipykernel_2276/201914381.py:18: FutureWarning: The frame.append method is deprecated and will be removed from pandas in a future version. Use pandas.concat instead.\n",
      "  Replayed = Replayed.append([count])\n",
      "C:\\Users\\A477967\\AppData\\Local\\Temp/ipykernel_2276/201914381.py:18: FutureWarning: The frame.append method is deprecated and will be removed from pandas in a future version. Use pandas.concat instead.\n",
      "  Replayed = Replayed.append([count])\n",
      "C:\\Users\\A477967\\AppData\\Local\\Temp/ipykernel_2276/201914381.py:18: FutureWarning: The frame.append method is deprecated and will be removed from pandas in a future version. Use pandas.concat instead.\n",
      "  Replayed = Replayed.append([count])\n",
      "C:\\Users\\A477967\\AppData\\Local\\Temp/ipykernel_2276/201914381.py:18: FutureWarning: The frame.append method is deprecated and will be removed from pandas in a future version. Use pandas.concat instead.\n",
      "  Replayed = Replayed.append([count])\n",
      "C:\\Users\\A477967\\AppData\\Local\\Temp/ipykernel_2276/201914381.py:18: FutureWarning: The frame.append method is deprecated and will be removed from pandas in a future version. Use pandas.concat instead.\n",
      "  Replayed = Replayed.append([count])\n",
      "C:\\Users\\A477967\\AppData\\Local\\Temp/ipykernel_2276/201914381.py:18: FutureWarning: The frame.append method is deprecated and will be removed from pandas in a future version. Use pandas.concat instead.\n",
      "  Replayed = Replayed.append([count])\n",
      "C:\\Users\\A477967\\AppData\\Local\\Temp/ipykernel_2276/201914381.py:18: FutureWarning: The frame.append method is deprecated and will be removed from pandas in a future version. Use pandas.concat instead.\n",
      "  Replayed = Replayed.append([count])\n",
      "C:\\Users\\A477967\\AppData\\Local\\Temp/ipykernel_2276/201914381.py:18: FutureWarning: The frame.append method is deprecated and will be removed from pandas in a future version. Use pandas.concat instead.\n",
      "  Replayed = Replayed.append([count])\n",
      "C:\\Users\\A477967\\AppData\\Local\\Temp/ipykernel_2276/201914381.py:18: FutureWarning: The frame.append method is deprecated and will be removed from pandas in a future version. Use pandas.concat instead.\n",
      "  Replayed = Replayed.append([count])\n",
      "C:\\Users\\A477967\\AppData\\Local\\Temp/ipykernel_2276/201914381.py:18: FutureWarning: The frame.append method is deprecated and will be removed from pandas in a future version. Use pandas.concat instead.\n",
      "  Replayed = Replayed.append([count])\n",
      "C:\\Users\\A477967\\AppData\\Local\\Temp/ipykernel_2276/201914381.py:18: FutureWarning: The frame.append method is deprecated and will be removed from pandas in a future version. Use pandas.concat instead.\n",
      "  Replayed = Replayed.append([count])\n",
      "C:\\Users\\A477967\\AppData\\Local\\Temp/ipykernel_2276/201914381.py:18: FutureWarning: The frame.append method is deprecated and will be removed from pandas in a future version. Use pandas.concat instead.\n",
      "  Replayed = Replayed.append([count])\n",
      "C:\\Users\\A477967\\AppData\\Local\\Temp/ipykernel_2276/201914381.py:18: FutureWarning: The frame.append method is deprecated and will be removed from pandas in a future version. Use pandas.concat instead.\n",
      "  Replayed = Replayed.append([count])\n",
      "C:\\Users\\A477967\\AppData\\Local\\Temp/ipykernel_2276/201914381.py:18: FutureWarning: The frame.append method is deprecated and will be removed from pandas in a future version. Use pandas.concat instead.\n",
      "  Replayed = Replayed.append([count])\n",
      "C:\\Users\\A477967\\AppData\\Local\\Temp/ipykernel_2276/201914381.py:18: FutureWarning: The frame.append method is deprecated and will be removed from pandas in a future version. Use pandas.concat instead.\n",
      "  Replayed = Replayed.append([count])\n",
      "C:\\Users\\A477967\\AppData\\Local\\Temp/ipykernel_2276/201914381.py:18: FutureWarning: The frame.append method is deprecated and will be removed from pandas in a future version. Use pandas.concat instead.\n",
      "  Replayed = Replayed.append([count])\n",
      "C:\\Users\\A477967\\AppData\\Local\\Temp/ipykernel_2276/201914381.py:18: FutureWarning: The frame.append method is deprecated and will be removed from pandas in a future version. Use pandas.concat instead.\n",
      "  Replayed = Replayed.append([count])\n",
      "C:\\Users\\A477967\\AppData\\Local\\Temp/ipykernel_2276/201914381.py:18: FutureWarning: The frame.append method is deprecated and will be removed from pandas in a future version. Use pandas.concat instead.\n",
      "  Replayed = Replayed.append([count])\n",
      "C:\\Users\\A477967\\AppData\\Local\\Temp/ipykernel_2276/201914381.py:18: FutureWarning: The frame.append method is deprecated and will be removed from pandas in a future version. Use pandas.concat instead.\n",
      "  Replayed = Replayed.append([count])\n",
      "C:\\Users\\A477967\\AppData\\Local\\Temp/ipykernel_2276/201914381.py:18: FutureWarning: The frame.append method is deprecated and will be removed from pandas in a future version. Use pandas.concat instead.\n",
      "  Replayed = Replayed.append([count])\n",
      "C:\\Users\\A477967\\AppData\\Local\\Temp/ipykernel_2276/201914381.py:18: FutureWarning: The frame.append method is deprecated and will be removed from pandas in a future version. Use pandas.concat instead.\n",
      "  Replayed = Replayed.append([count])\n",
      "C:\\Users\\A477967\\AppData\\Local\\Temp/ipykernel_2276/201914381.py:18: FutureWarning: The frame.append method is deprecated and will be removed from pandas in a future version. Use pandas.concat instead.\n",
      "  Replayed = Replayed.append([count])\n",
      "C:\\Users\\A477967\\AppData\\Local\\Temp/ipykernel_2276/201914381.py:18: FutureWarning: The frame.append method is deprecated and will be removed from pandas in a future version. Use pandas.concat instead.\n",
      "  Replayed = Replayed.append([count])\n"
     ]
    },
    {
     "name": "stderr",
     "output_type": "stream",
     "text": [
      "C:\\Users\\A477967\\AppData\\Local\\Temp/ipykernel_2276/201914381.py:18: FutureWarning: The frame.append method is deprecated and will be removed from pandas in a future version. Use pandas.concat instead.\n",
      "  Replayed = Replayed.append([count])\n",
      "C:\\Users\\A477967\\AppData\\Local\\Temp/ipykernel_2276/201914381.py:18: FutureWarning: The frame.append method is deprecated and will be removed from pandas in a future version. Use pandas.concat instead.\n",
      "  Replayed = Replayed.append([count])\n",
      "C:\\Users\\A477967\\AppData\\Local\\Temp/ipykernel_2276/201914381.py:18: FutureWarning: The frame.append method is deprecated and will be removed from pandas in a future version. Use pandas.concat instead.\n",
      "  Replayed = Replayed.append([count])\n",
      "C:\\Users\\A477967\\AppData\\Local\\Temp/ipykernel_2276/201914381.py:18: FutureWarning: The frame.append method is deprecated and will be removed from pandas in a future version. Use pandas.concat instead.\n",
      "  Replayed = Replayed.append([count])\n",
      "C:\\Users\\A477967\\AppData\\Local\\Temp/ipykernel_2276/201914381.py:18: FutureWarning: The frame.append method is deprecated and will be removed from pandas in a future version. Use pandas.concat instead.\n",
      "  Replayed = Replayed.append([count])\n",
      "C:\\Users\\A477967\\AppData\\Local\\Temp/ipykernel_2276/201914381.py:18: FutureWarning: The frame.append method is deprecated and will be removed from pandas in a future version. Use pandas.concat instead.\n",
      "  Replayed = Replayed.append([count])\n",
      "C:\\Users\\A477967\\AppData\\Local\\Temp/ipykernel_2276/201914381.py:18: FutureWarning: The frame.append method is deprecated and will be removed from pandas in a future version. Use pandas.concat instead.\n",
      "  Replayed = Replayed.append([count])\n",
      "C:\\Users\\A477967\\AppData\\Local\\Temp/ipykernel_2276/201914381.py:18: FutureWarning: The frame.append method is deprecated and will be removed from pandas in a future version. Use pandas.concat instead.\n",
      "  Replayed = Replayed.append([count])\n",
      "C:\\Users\\A477967\\AppData\\Local\\Temp/ipykernel_2276/201914381.py:18: FutureWarning: The frame.append method is deprecated and will be removed from pandas in a future version. Use pandas.concat instead.\n",
      "  Replayed = Replayed.append([count])\n",
      "C:\\Users\\A477967\\AppData\\Local\\Temp/ipykernel_2276/201914381.py:18: FutureWarning: The frame.append method is deprecated and will be removed from pandas in a future version. Use pandas.concat instead.\n",
      "  Replayed = Replayed.append([count])\n",
      "C:\\Users\\A477967\\AppData\\Local\\Temp/ipykernel_2276/201914381.py:18: FutureWarning: The frame.append method is deprecated and will be removed from pandas in a future version. Use pandas.concat instead.\n",
      "  Replayed = Replayed.append([count])\n",
      "C:\\Users\\A477967\\AppData\\Local\\Temp/ipykernel_2276/201914381.py:18: FutureWarning: The frame.append method is deprecated and will be removed from pandas in a future version. Use pandas.concat instead.\n",
      "  Replayed = Replayed.append([count])\n",
      "C:\\Users\\A477967\\AppData\\Local\\Temp/ipykernel_2276/201914381.py:18: FutureWarning: The frame.append method is deprecated and will be removed from pandas in a future version. Use pandas.concat instead.\n",
      "  Replayed = Replayed.append([count])\n",
      "C:\\Users\\A477967\\AppData\\Local\\Temp/ipykernel_2276/201914381.py:18: FutureWarning: The frame.append method is deprecated and will be removed from pandas in a future version. Use pandas.concat instead.\n",
      "  Replayed = Replayed.append([count])\n",
      "C:\\Users\\A477967\\AppData\\Local\\Temp/ipykernel_2276/201914381.py:18: FutureWarning: The frame.append method is deprecated and will be removed from pandas in a future version. Use pandas.concat instead.\n",
      "  Replayed = Replayed.append([count])\n",
      "C:\\Users\\A477967\\AppData\\Local\\Temp/ipykernel_2276/201914381.py:18: FutureWarning: The frame.append method is deprecated and will be removed from pandas in a future version. Use pandas.concat instead.\n",
      "  Replayed = Replayed.append([count])\n",
      "C:\\Users\\A477967\\AppData\\Local\\Temp/ipykernel_2276/201914381.py:18: FutureWarning: The frame.append method is deprecated and will be removed from pandas in a future version. Use pandas.concat instead.\n",
      "  Replayed = Replayed.append([count])\n",
      "C:\\Users\\A477967\\AppData\\Local\\Temp/ipykernel_2276/201914381.py:18: FutureWarning: The frame.append method is deprecated and will be removed from pandas in a future version. Use pandas.concat instead.\n",
      "  Replayed = Replayed.append([count])\n",
      "C:\\Users\\A477967\\AppData\\Local\\Temp/ipykernel_2276/201914381.py:18: FutureWarning: The frame.append method is deprecated and will be removed from pandas in a future version. Use pandas.concat instead.\n",
      "  Replayed = Replayed.append([count])\n",
      "C:\\Users\\A477967\\AppData\\Local\\Temp/ipykernel_2276/201914381.py:18: FutureWarning: The frame.append method is deprecated and will be removed from pandas in a future version. Use pandas.concat instead.\n",
      "  Replayed = Replayed.append([count])\n",
      "C:\\Users\\A477967\\AppData\\Local\\Temp/ipykernel_2276/201914381.py:18: FutureWarning: The frame.append method is deprecated and will be removed from pandas in a future version. Use pandas.concat instead.\n",
      "  Replayed = Replayed.append([count])\n",
      "C:\\Users\\A477967\\AppData\\Local\\Temp/ipykernel_2276/201914381.py:18: FutureWarning: The frame.append method is deprecated and will be removed from pandas in a future version. Use pandas.concat instead.\n",
      "  Replayed = Replayed.append([count])\n",
      "C:\\Users\\A477967\\AppData\\Local\\Temp/ipykernel_2276/201914381.py:18: FutureWarning: The frame.append method is deprecated and will be removed from pandas in a future version. Use pandas.concat instead.\n",
      "  Replayed = Replayed.append([count])\n",
      "C:\\Users\\A477967\\AppData\\Local\\Temp/ipykernel_2276/201914381.py:18: FutureWarning: The frame.append method is deprecated and will be removed from pandas in a future version. Use pandas.concat instead.\n",
      "  Replayed = Replayed.append([count])\n",
      "C:\\Users\\A477967\\AppData\\Local\\Temp/ipykernel_2276/201914381.py:18: FutureWarning: The frame.append method is deprecated and will be removed from pandas in a future version. Use pandas.concat instead.\n",
      "  Replayed = Replayed.append([count])\n",
      "C:\\Users\\A477967\\AppData\\Local\\Temp/ipykernel_2276/201914381.py:18: FutureWarning: The frame.append method is deprecated and will be removed from pandas in a future version. Use pandas.concat instead.\n",
      "  Replayed = Replayed.append([count])\n",
      "C:\\Users\\A477967\\AppData\\Local\\Temp/ipykernel_2276/201914381.py:18: FutureWarning: The frame.append method is deprecated and will be removed from pandas in a future version. Use pandas.concat instead.\n",
      "  Replayed = Replayed.append([count])\n",
      "C:\\Users\\A477967\\AppData\\Local\\Temp/ipykernel_2276/201914381.py:18: FutureWarning: The frame.append method is deprecated and will be removed from pandas in a future version. Use pandas.concat instead.\n",
      "  Replayed = Replayed.append([count])\n",
      "C:\\Users\\A477967\\AppData\\Local\\Temp/ipykernel_2276/201914381.py:18: FutureWarning: The frame.append method is deprecated and will be removed from pandas in a future version. Use pandas.concat instead.\n",
      "  Replayed = Replayed.append([count])\n",
      "C:\\Users\\A477967\\AppData\\Local\\Temp/ipykernel_2276/201914381.py:18: FutureWarning: The frame.append method is deprecated and will be removed from pandas in a future version. Use pandas.concat instead.\n",
      "  Replayed = Replayed.append([count])\n",
      "C:\\Users\\A477967\\AppData\\Local\\Temp/ipykernel_2276/201914381.py:18: FutureWarning: The frame.append method is deprecated and will be removed from pandas in a future version. Use pandas.concat instead.\n",
      "  Replayed = Replayed.append([count])\n",
      "C:\\Users\\A477967\\AppData\\Local\\Temp/ipykernel_2276/201914381.py:18: FutureWarning: The frame.append method is deprecated and will be removed from pandas in a future version. Use pandas.concat instead.\n",
      "  Replayed = Replayed.append([count])\n",
      "C:\\Users\\A477967\\AppData\\Local\\Temp/ipykernel_2276/201914381.py:18: FutureWarning: The frame.append method is deprecated and will be removed from pandas in a future version. Use pandas.concat instead.\n",
      "  Replayed = Replayed.append([count])\n",
      "C:\\Users\\A477967\\AppData\\Local\\Temp/ipykernel_2276/201914381.py:18: FutureWarning: The frame.append method is deprecated and will be removed from pandas in a future version. Use pandas.concat instead.\n",
      "  Replayed = Replayed.append([count])\n",
      "C:\\Users\\A477967\\AppData\\Local\\Temp/ipykernel_2276/201914381.py:18: FutureWarning: The frame.append method is deprecated and will be removed from pandas in a future version. Use pandas.concat instead.\n",
      "  Replayed = Replayed.append([count])\n",
      "C:\\Users\\A477967\\AppData\\Local\\Temp/ipykernel_2276/201914381.py:18: FutureWarning: The frame.append method is deprecated and will be removed from pandas in a future version. Use pandas.concat instead.\n",
      "  Replayed = Replayed.append([count])\n",
      "C:\\Users\\A477967\\AppData\\Local\\Temp/ipykernel_2276/201914381.py:18: FutureWarning: The frame.append method is deprecated and will be removed from pandas in a future version. Use pandas.concat instead.\n",
      "  Replayed = Replayed.append([count])\n",
      "C:\\Users\\A477967\\AppData\\Local\\Temp/ipykernel_2276/201914381.py:18: FutureWarning: The frame.append method is deprecated and will be removed from pandas in a future version. Use pandas.concat instead.\n",
      "  Replayed = Replayed.append([count])\n"
     ]
    },
    {
     "name": "stderr",
     "output_type": "stream",
     "text": [
      "C:\\Users\\A477967\\AppData\\Local\\Temp/ipykernel_2276/201914381.py:18: FutureWarning: The frame.append method is deprecated and will be removed from pandas in a future version. Use pandas.concat instead.\n",
      "  Replayed = Replayed.append([count])\n",
      "C:\\Users\\A477967\\AppData\\Local\\Temp/ipykernel_2276/201914381.py:18: FutureWarning: The frame.append method is deprecated and will be removed from pandas in a future version. Use pandas.concat instead.\n",
      "  Replayed = Replayed.append([count])\n",
      "C:\\Users\\A477967\\AppData\\Local\\Temp/ipykernel_2276/201914381.py:18: FutureWarning: The frame.append method is deprecated and will be removed from pandas in a future version. Use pandas.concat instead.\n",
      "  Replayed = Replayed.append([count])\n",
      "C:\\Users\\A477967\\AppData\\Local\\Temp/ipykernel_2276/201914381.py:18: FutureWarning: The frame.append method is deprecated and will be removed from pandas in a future version. Use pandas.concat instead.\n",
      "  Replayed = Replayed.append([count])\n",
      "C:\\Users\\A477967\\AppData\\Local\\Temp/ipykernel_2276/201914381.py:18: FutureWarning: The frame.append method is deprecated and will be removed from pandas in a future version. Use pandas.concat instead.\n",
      "  Replayed = Replayed.append([count])\n",
      "C:\\Users\\A477967\\AppData\\Local\\Temp/ipykernel_2276/201914381.py:18: FutureWarning: The frame.append method is deprecated and will be removed from pandas in a future version. Use pandas.concat instead.\n",
      "  Replayed = Replayed.append([count])\n",
      "C:\\Users\\A477967\\AppData\\Local\\Temp/ipykernel_2276/201914381.py:18: FutureWarning: The frame.append method is deprecated and will be removed from pandas in a future version. Use pandas.concat instead.\n",
      "  Replayed = Replayed.append([count])\n",
      "C:\\Users\\A477967\\AppData\\Local\\Temp/ipykernel_2276/201914381.py:18: FutureWarning: The frame.append method is deprecated and will be removed from pandas in a future version. Use pandas.concat instead.\n",
      "  Replayed = Replayed.append([count])\n",
      "C:\\Users\\A477967\\AppData\\Local\\Temp/ipykernel_2276/201914381.py:18: FutureWarning: The frame.append method is deprecated and will be removed from pandas in a future version. Use pandas.concat instead.\n",
      "  Replayed = Replayed.append([count])\n",
      "C:\\Users\\A477967\\AppData\\Local\\Temp/ipykernel_2276/201914381.py:18: FutureWarning: The frame.append method is deprecated and will be removed from pandas in a future version. Use pandas.concat instead.\n",
      "  Replayed = Replayed.append([count])\n",
      "C:\\Users\\A477967\\AppData\\Local\\Temp/ipykernel_2276/201914381.py:18: FutureWarning: The frame.append method is deprecated and will be removed from pandas in a future version. Use pandas.concat instead.\n",
      "  Replayed = Replayed.append([count])\n",
      "C:\\Users\\A477967\\AppData\\Local\\Temp/ipykernel_2276/201914381.py:18: FutureWarning: The frame.append method is deprecated and will be removed from pandas in a future version. Use pandas.concat instead.\n",
      "  Replayed = Replayed.append([count])\n",
      "C:\\Users\\A477967\\AppData\\Local\\Temp/ipykernel_2276/201914381.py:18: FutureWarning: The frame.append method is deprecated and will be removed from pandas in a future version. Use pandas.concat instead.\n",
      "  Replayed = Replayed.append([count])\n",
      "C:\\Users\\A477967\\AppData\\Local\\Temp/ipykernel_2276/201914381.py:18: FutureWarning: The frame.append method is deprecated and will be removed from pandas in a future version. Use pandas.concat instead.\n",
      "  Replayed = Replayed.append([count])\n",
      "C:\\Users\\A477967\\AppData\\Local\\Temp/ipykernel_2276/201914381.py:18: FutureWarning: The frame.append method is deprecated and will be removed from pandas in a future version. Use pandas.concat instead.\n",
      "  Replayed = Replayed.append([count])\n",
      "C:\\Users\\A477967\\AppData\\Local\\Temp/ipykernel_2276/201914381.py:18: FutureWarning: The frame.append method is deprecated and will be removed from pandas in a future version. Use pandas.concat instead.\n",
      "  Replayed = Replayed.append([count])\n",
      "C:\\Users\\A477967\\AppData\\Local\\Temp/ipykernel_2276/201914381.py:18: FutureWarning: The frame.append method is deprecated and will be removed from pandas in a future version. Use pandas.concat instead.\n",
      "  Replayed = Replayed.append([count])\n",
      "C:\\Users\\A477967\\AppData\\Local\\Temp/ipykernel_2276/201914381.py:18: FutureWarning: The frame.append method is deprecated and will be removed from pandas in a future version. Use pandas.concat instead.\n",
      "  Replayed = Replayed.append([count])\n",
      "C:\\Users\\A477967\\AppData\\Local\\Temp/ipykernel_2276/201914381.py:18: FutureWarning: The frame.append method is deprecated and will be removed from pandas in a future version. Use pandas.concat instead.\n",
      "  Replayed = Replayed.append([count])\n",
      "C:\\Users\\A477967\\AppData\\Local\\Temp/ipykernel_2276/201914381.py:18: FutureWarning: The frame.append method is deprecated and will be removed from pandas in a future version. Use pandas.concat instead.\n",
      "  Replayed = Replayed.append([count])\n",
      "C:\\Users\\A477967\\AppData\\Local\\Temp/ipykernel_2276/201914381.py:18: FutureWarning: The frame.append method is deprecated and will be removed from pandas in a future version. Use pandas.concat instead.\n",
      "  Replayed = Replayed.append([count])\n",
      "C:\\Users\\A477967\\AppData\\Local\\Temp/ipykernel_2276/201914381.py:18: FutureWarning: The frame.append method is deprecated and will be removed from pandas in a future version. Use pandas.concat instead.\n",
      "  Replayed = Replayed.append([count])\n",
      "C:\\Users\\A477967\\AppData\\Local\\Temp/ipykernel_2276/201914381.py:18: FutureWarning: The frame.append method is deprecated and will be removed from pandas in a future version. Use pandas.concat instead.\n",
      "  Replayed = Replayed.append([count])\n",
      "C:\\Users\\A477967\\AppData\\Local\\Temp/ipykernel_2276/201914381.py:18: FutureWarning: The frame.append method is deprecated and will be removed from pandas in a future version. Use pandas.concat instead.\n",
      "  Replayed = Replayed.append([count])\n"
     ]
    }
   ],
   "source": [
    "import pandas as pd\n",
    "Replayed = pd.DataFrame([])\n",
    "for _ in range(0,100):\n",
    "    d = {}\n",
    "    a = get_random_bytes(2)\n",
    "    b = get_random_bytes(2)\n",
    "    d[a] = 1\n",
    "    d[b] = 1\n",
    "    count = 0\n",
    "#     print(count)\n",
    "    while a != b:\n",
    "        b = get_random_bytes(2)\n",
    "        if b in d:\n",
    "            break\n",
    "        else: d[b] = 1\n",
    "        count = count +1;\n",
    "    \n",
    "    Replayed = Replayed.append([count])"
   ]
  },
  {
   "cell_type": "code",
   "execution_count": 71,
   "id": "8d6bc71f",
   "metadata": {},
   "outputs": [
    {
     "name": "stdout",
     "output_type": "stream",
     "text": [
      "0    852\n",
      "dtype: int64 0    0\n",
      "dtype: int64 0    302.42\n",
      "dtype: float64\n"
     ]
    },
    {
     "data": {
      "text/plain": [
       "32800"
      ]
     },
     "execution_count": 71,
     "metadata": {},
     "output_type": "execute_result"
    }
   ],
   "source": [
    "print(Replayed.max(), Replayed.min() , Replayed.mean())\n",
    "Replayed.mean()\n",
    "b = get_random_bytes(2)\n",
    "int.from_bytes(a,'little')"
   ]
  },
  {
   "cell_type": "code",
   "execution_count": 45,
   "id": "715beaa8",
   "metadata": {},
   "outputs": [
    {
     "name": "stdout",
     "output_type": "stream",
     "text": [
      "0\n",
      "0\n",
      "0\n",
      "0\n"
     ]
    },
    {
     "name": "stderr",
     "output_type": "stream",
     "text": [
      "C:\\Users\\A477967\\AppData\\Local\\Temp/ipykernel_2276/3787485878.py:18: FutureWarning: The frame.append method is deprecated and will be removed from pandas in a future version. Use pandas.concat instead.\n",
      "  Replayed = Replayed.append([count])\n",
      "C:\\Users\\A477967\\AppData\\Local\\Temp/ipykernel_2276/3787485878.py:18: FutureWarning: The frame.append method is deprecated and will be removed from pandas in a future version. Use pandas.concat instead.\n",
      "  Replayed = Replayed.append([count])\n",
      "C:\\Users\\A477967\\AppData\\Local\\Temp/ipykernel_2276/3787485878.py:18: FutureWarning: The frame.append method is deprecated and will be removed from pandas in a future version. Use pandas.concat instead.\n",
      "  Replayed = Replayed.append([count])\n",
      "C:\\Users\\A477967\\AppData\\Local\\Temp/ipykernel_2276/3787485878.py:18: FutureWarning: The frame.append method is deprecated and will be removed from pandas in a future version. Use pandas.concat instead.\n",
      "  Replayed = Replayed.append([count])\n",
      "C:\\Users\\A477967\\AppData\\Local\\Temp/ipykernel_2276/3787485878.py:18: FutureWarning: The frame.append method is deprecated and will be removed from pandas in a future version. Use pandas.concat instead.\n",
      "  Replayed = Replayed.append([count])\n"
     ]
    },
    {
     "name": "stdout",
     "output_type": "stream",
     "text": [
      "0\n",
      "0\n",
      "0\n",
      "0\n",
      "0\n",
      "0\n",
      "0\n",
      "0\n"
     ]
    },
    {
     "name": "stderr",
     "output_type": "stream",
     "text": [
      "C:\\Users\\A477967\\AppData\\Local\\Temp/ipykernel_2276/3787485878.py:18: FutureWarning: The frame.append method is deprecated and will be removed from pandas in a future version. Use pandas.concat instead.\n",
      "  Replayed = Replayed.append([count])\n",
      "C:\\Users\\A477967\\AppData\\Local\\Temp/ipykernel_2276/3787485878.py:18: FutureWarning: The frame.append method is deprecated and will be removed from pandas in a future version. Use pandas.concat instead.\n",
      "  Replayed = Replayed.append([count])\n",
      "C:\\Users\\A477967\\AppData\\Local\\Temp/ipykernel_2276/3787485878.py:18: FutureWarning: The frame.append method is deprecated and will be removed from pandas in a future version. Use pandas.concat instead.\n",
      "  Replayed = Replayed.append([count])\n",
      "C:\\Users\\A477967\\AppData\\Local\\Temp/ipykernel_2276/3787485878.py:18: FutureWarning: The frame.append method is deprecated and will be removed from pandas in a future version. Use pandas.concat instead.\n",
      "  Replayed = Replayed.append([count])\n",
      "C:\\Users\\A477967\\AppData\\Local\\Temp/ipykernel_2276/3787485878.py:18: FutureWarning: The frame.append method is deprecated and will be removed from pandas in a future version. Use pandas.concat instead.\n",
      "  Replayed = Replayed.append([count])\n",
      "C:\\Users\\A477967\\AppData\\Local\\Temp/ipykernel_2276/3787485878.py:18: FutureWarning: The frame.append method is deprecated and will be removed from pandas in a future version. Use pandas.concat instead.\n",
      "  Replayed = Replayed.append([count])\n",
      "C:\\Users\\A477967\\AppData\\Local\\Temp/ipykernel_2276/3787485878.py:18: FutureWarning: The frame.append method is deprecated and will be removed from pandas in a future version. Use pandas.concat instead.\n",
      "  Replayed = Replayed.append([count])\n"
     ]
    },
    {
     "name": "stdout",
     "output_type": "stream",
     "text": [
      "0\n",
      "0\n",
      "0\n",
      "0\n",
      "0\n",
      "0\n"
     ]
    },
    {
     "name": "stderr",
     "output_type": "stream",
     "text": [
      "C:\\Users\\A477967\\AppData\\Local\\Temp/ipykernel_2276/3787485878.py:18: FutureWarning: The frame.append method is deprecated and will be removed from pandas in a future version. Use pandas.concat instead.\n",
      "  Replayed = Replayed.append([count])\n",
      "C:\\Users\\A477967\\AppData\\Local\\Temp/ipykernel_2276/3787485878.py:18: FutureWarning: The frame.append method is deprecated and will be removed from pandas in a future version. Use pandas.concat instead.\n",
      "  Replayed = Replayed.append([count])\n",
      "C:\\Users\\A477967\\AppData\\Local\\Temp/ipykernel_2276/3787485878.py:18: FutureWarning: The frame.append method is deprecated and will be removed from pandas in a future version. Use pandas.concat instead.\n",
      "  Replayed = Replayed.append([count])\n",
      "C:\\Users\\A477967\\AppData\\Local\\Temp/ipykernel_2276/3787485878.py:18: FutureWarning: The frame.append method is deprecated and will be removed from pandas in a future version. Use pandas.concat instead.\n",
      "  Replayed = Replayed.append([count])\n",
      "C:\\Users\\A477967\\AppData\\Local\\Temp/ipykernel_2276/3787485878.py:18: FutureWarning: The frame.append method is deprecated and will be removed from pandas in a future version. Use pandas.concat instead.\n",
      "  Replayed = Replayed.append([count])\n",
      "C:\\Users\\A477967\\AppData\\Local\\Temp/ipykernel_2276/3787485878.py:18: FutureWarning: The frame.append method is deprecated and will be removed from pandas in a future version. Use pandas.concat instead.\n",
      "  Replayed = Replayed.append([count])\n"
     ]
    },
    {
     "name": "stdout",
     "output_type": "stream",
     "text": [
      "0\n",
      "0\n",
      "0\n",
      "0\n",
      "0\n",
      "0\n",
      "0\n",
      "0\n"
     ]
    },
    {
     "name": "stderr",
     "output_type": "stream",
     "text": [
      "C:\\Users\\A477967\\AppData\\Local\\Temp/ipykernel_2276/3787485878.py:18: FutureWarning: The frame.append method is deprecated and will be removed from pandas in a future version. Use pandas.concat instead.\n",
      "  Replayed = Replayed.append([count])\n",
      "C:\\Users\\A477967\\AppData\\Local\\Temp/ipykernel_2276/3787485878.py:18: FutureWarning: The frame.append method is deprecated and will be removed from pandas in a future version. Use pandas.concat instead.\n",
      "  Replayed = Replayed.append([count])\n",
      "C:\\Users\\A477967\\AppData\\Local\\Temp/ipykernel_2276/3787485878.py:18: FutureWarning: The frame.append method is deprecated and will be removed from pandas in a future version. Use pandas.concat instead.\n",
      "  Replayed = Replayed.append([count])\n",
      "C:\\Users\\A477967\\AppData\\Local\\Temp/ipykernel_2276/3787485878.py:18: FutureWarning: The frame.append method is deprecated and will be removed from pandas in a future version. Use pandas.concat instead.\n",
      "  Replayed = Replayed.append([count])\n",
      "C:\\Users\\A477967\\AppData\\Local\\Temp/ipykernel_2276/3787485878.py:18: FutureWarning: The frame.append method is deprecated and will be removed from pandas in a future version. Use pandas.concat instead.\n",
      "  Replayed = Replayed.append([count])\n",
      "C:\\Users\\A477967\\AppData\\Local\\Temp/ipykernel_2276/3787485878.py:18: FutureWarning: The frame.append method is deprecated and will be removed from pandas in a future version. Use pandas.concat instead.\n",
      "  Replayed = Replayed.append([count])\n",
      "C:\\Users\\A477967\\AppData\\Local\\Temp/ipykernel_2276/3787485878.py:18: FutureWarning: The frame.append method is deprecated and will be removed from pandas in a future version. Use pandas.concat instead.\n",
      "  Replayed = Replayed.append([count])\n"
     ]
    },
    {
     "name": "stdout",
     "output_type": "stream",
     "text": [
      "0\n",
      "0\n",
      "0\n",
      "0\n",
      "0\n",
      "0"
     ]
    },
    {
     "name": "stderr",
     "output_type": "stream",
     "text": [
      "C:\\Users\\A477967\\AppData\\Local\\Temp/ipykernel_2276/3787485878.py:18: FutureWarning: The frame.append method is deprecated and will be removed from pandas in a future version. Use pandas.concat instead.\n",
      "  Replayed = Replayed.append([count])\n",
      "C:\\Users\\A477967\\AppData\\Local\\Temp/ipykernel_2276/3787485878.py:18: FutureWarning: The frame.append method is deprecated and will be removed from pandas in a future version. Use pandas.concat instead.\n",
      "  Replayed = Replayed.append([count])\n",
      "C:\\Users\\A477967\\AppData\\Local\\Temp/ipykernel_2276/3787485878.py:18: FutureWarning: The frame.append method is deprecated and will be removed from pandas in a future version. Use pandas.concat instead.\n",
      "  Replayed = Replayed.append([count])\n",
      "C:\\Users\\A477967\\AppData\\Local\\Temp/ipykernel_2276/3787485878.py:18: FutureWarning: The frame.append method is deprecated and will be removed from pandas in a future version. Use pandas.concat instead.\n",
      "  Replayed = Replayed.append([count])\n",
      "C:\\Users\\A477967\\AppData\\Local\\Temp/ipykernel_2276/3787485878.py:18: FutureWarning: The frame.append method is deprecated and will be removed from pandas in a future version. Use pandas.concat instead.\n",
      "  Replayed = Replayed.append([count])\n"
     ]
    },
    {
     "name": "stdout",
     "output_type": "stream",
     "text": [
      "\n",
      "0\n",
      "0\n",
      "0\n",
      "0\n",
      "0\n"
     ]
    },
    {
     "name": "stderr",
     "output_type": "stream",
     "text": [
      "C:\\Users\\A477967\\AppData\\Local\\Temp/ipykernel_2276/3787485878.py:18: FutureWarning: The frame.append method is deprecated and will be removed from pandas in a future version. Use pandas.concat instead.\n",
      "  Replayed = Replayed.append([count])\n",
      "C:\\Users\\A477967\\AppData\\Local\\Temp/ipykernel_2276/3787485878.py:18: FutureWarning: The frame.append method is deprecated and will be removed from pandas in a future version. Use pandas.concat instead.\n",
      "  Replayed = Replayed.append([count])\n",
      "C:\\Users\\A477967\\AppData\\Local\\Temp/ipykernel_2276/3787485878.py:18: FutureWarning: The frame.append method is deprecated and will be removed from pandas in a future version. Use pandas.concat instead.\n",
      "  Replayed = Replayed.append([count])\n",
      "C:\\Users\\A477967\\AppData\\Local\\Temp/ipykernel_2276/3787485878.py:18: FutureWarning: The frame.append method is deprecated and will be removed from pandas in a future version. Use pandas.concat instead.\n",
      "  Replayed = Replayed.append([count])\n",
      "C:\\Users\\A477967\\AppData\\Local\\Temp/ipykernel_2276/3787485878.py:18: FutureWarning: The frame.append method is deprecated and will be removed from pandas in a future version. Use pandas.concat instead.\n",
      "  Replayed = Replayed.append([count])\n",
      "C:\\Users\\A477967\\AppData\\Local\\Temp/ipykernel_2276/3787485878.py:18: FutureWarning: The frame.append method is deprecated and will be removed from pandas in a future version. Use pandas.concat instead.\n",
      "  Replayed = Replayed.append([count])\n"
     ]
    },
    {
     "name": "stdout",
     "output_type": "stream",
     "text": [
      "0\n",
      "0\n",
      "0\n",
      "0\n",
      "0\n"
     ]
    },
    {
     "name": "stderr",
     "output_type": "stream",
     "text": [
      "C:\\Users\\A477967\\AppData\\Local\\Temp/ipykernel_2276/3787485878.py:18: FutureWarning: The frame.append method is deprecated and will be removed from pandas in a future version. Use pandas.concat instead.\n",
      "  Replayed = Replayed.append([count])\n",
      "C:\\Users\\A477967\\AppData\\Local\\Temp/ipykernel_2276/3787485878.py:18: FutureWarning: The frame.append method is deprecated and will be removed from pandas in a future version. Use pandas.concat instead.\n",
      "  Replayed = Replayed.append([count])\n",
      "C:\\Users\\A477967\\AppData\\Local\\Temp/ipykernel_2276/3787485878.py:18: FutureWarning: The frame.append method is deprecated and will be removed from pandas in a future version. Use pandas.concat instead.\n",
      "  Replayed = Replayed.append([count])\n",
      "C:\\Users\\A477967\\AppData\\Local\\Temp/ipykernel_2276/3787485878.py:18: FutureWarning: The frame.append method is deprecated and will be removed from pandas in a future version. Use pandas.concat instead.\n",
      "  Replayed = Replayed.append([count])\n",
      "C:\\Users\\A477967\\AppData\\Local\\Temp/ipykernel_2276/3787485878.py:18: FutureWarning: The frame.append method is deprecated and will be removed from pandas in a future version. Use pandas.concat instead.\n",
      "  Replayed = Replayed.append([count])\n",
      "C:\\Users\\A477967\\AppData\\Local\\Temp/ipykernel_2276/3787485878.py:18: FutureWarning: The frame.append method is deprecated and will be removed from pandas in a future version. Use pandas.concat instead.\n",
      "  Replayed = Replayed.append([count])\n"
     ]
    },
    {
     "name": "stdout",
     "output_type": "stream",
     "text": [
      "0\n",
      "0\n",
      "0\n",
      "0\n",
      "0\n",
      "0\n",
      "0\n"
     ]
    },
    {
     "name": "stderr",
     "output_type": "stream",
     "text": [
      "C:\\Users\\A477967\\AppData\\Local\\Temp/ipykernel_2276/3787485878.py:18: FutureWarning: The frame.append method is deprecated and will be removed from pandas in a future version. Use pandas.concat instead.\n",
      "  Replayed = Replayed.append([count])\n",
      "C:\\Users\\A477967\\AppData\\Local\\Temp/ipykernel_2276/3787485878.py:18: FutureWarning: The frame.append method is deprecated and will be removed from pandas in a future version. Use pandas.concat instead.\n",
      "  Replayed = Replayed.append([count])\n",
      "C:\\Users\\A477967\\AppData\\Local\\Temp/ipykernel_2276/3787485878.py:18: FutureWarning: The frame.append method is deprecated and will be removed from pandas in a future version. Use pandas.concat instead.\n",
      "  Replayed = Replayed.append([count])\n",
      "C:\\Users\\A477967\\AppData\\Local\\Temp/ipykernel_2276/3787485878.py:18: FutureWarning: The frame.append method is deprecated and will be removed from pandas in a future version. Use pandas.concat instead.\n",
      "  Replayed = Replayed.append([count])\n",
      "C:\\Users\\A477967\\AppData\\Local\\Temp/ipykernel_2276/3787485878.py:18: FutureWarning: The frame.append method is deprecated and will be removed from pandas in a future version. Use pandas.concat instead.\n",
      "  Replayed = Replayed.append([count])\n"
     ]
    },
    {
     "name": "stdout",
     "output_type": "stream",
     "text": [
      "0\n",
      "0\n",
      "0\n",
      "0\n",
      "0"
     ]
    },
    {
     "name": "stderr",
     "output_type": "stream",
     "text": [
      "C:\\Users\\A477967\\AppData\\Local\\Temp/ipykernel_2276/3787485878.py:18: FutureWarning: The frame.append method is deprecated and will be removed from pandas in a future version. Use pandas.concat instead.\n",
      "  Replayed = Replayed.append([count])\n",
      "C:\\Users\\A477967\\AppData\\Local\\Temp/ipykernel_2276/3787485878.py:18: FutureWarning: The frame.append method is deprecated and will be removed from pandas in a future version. Use pandas.concat instead.\n",
      "  Replayed = Replayed.append([count])\n",
      "C:\\Users\\A477967\\AppData\\Local\\Temp/ipykernel_2276/3787485878.py:18: FutureWarning: The frame.append method is deprecated and will be removed from pandas in a future version. Use pandas.concat instead.\n",
      "  Replayed = Replayed.append([count])\n",
      "C:\\Users\\A477967\\AppData\\Local\\Temp/ipykernel_2276/3787485878.py:18: FutureWarning: The frame.append method is deprecated and will be removed from pandas in a future version. Use pandas.concat instead.\n",
      "  Replayed = Replayed.append([count])\n",
      "C:\\Users\\A477967\\AppData\\Local\\Temp/ipykernel_2276/3787485878.py:18: FutureWarning: The frame.append method is deprecated and will be removed from pandas in a future version. Use pandas.concat instead.\n",
      "  Replayed = Replayed.append([count])\n"
     ]
    },
    {
     "name": "stdout",
     "output_type": "stream",
     "text": [
      "\n",
      "0\n",
      "0\n",
      "0\n",
      "0\n",
      "0\n",
      "0\n"
     ]
    },
    {
     "name": "stderr",
     "output_type": "stream",
     "text": [
      "C:\\Users\\A477967\\AppData\\Local\\Temp/ipykernel_2276/3787485878.py:18: FutureWarning: The frame.append method is deprecated and will be removed from pandas in a future version. Use pandas.concat instead.\n",
      "  Replayed = Replayed.append([count])\n",
      "C:\\Users\\A477967\\AppData\\Local\\Temp/ipykernel_2276/3787485878.py:18: FutureWarning: The frame.append method is deprecated and will be removed from pandas in a future version. Use pandas.concat instead.\n",
      "  Replayed = Replayed.append([count])\n",
      "C:\\Users\\A477967\\AppData\\Local\\Temp/ipykernel_2276/3787485878.py:18: FutureWarning: The frame.append method is deprecated and will be removed from pandas in a future version. Use pandas.concat instead.\n",
      "  Replayed = Replayed.append([count])\n",
      "C:\\Users\\A477967\\AppData\\Local\\Temp/ipykernel_2276/3787485878.py:18: FutureWarning: The frame.append method is deprecated and will be removed from pandas in a future version. Use pandas.concat instead.\n",
      "  Replayed = Replayed.append([count])\n",
      "C:\\Users\\A477967\\AppData\\Local\\Temp/ipykernel_2276/3787485878.py:18: FutureWarning: The frame.append method is deprecated and will be removed from pandas in a future version. Use pandas.concat instead.\n",
      "  Replayed = Replayed.append([count])\n",
      "C:\\Users\\A477967\\AppData\\Local\\Temp/ipykernel_2276/3787485878.py:18: FutureWarning: The frame.append method is deprecated and will be removed from pandas in a future version. Use pandas.concat instead.\n",
      "  Replayed = Replayed.append([count])\n",
      "C:\\Users\\A477967\\AppData\\Local\\Temp/ipykernel_2276/3787485878.py:18: FutureWarning: The frame.append method is deprecated and will be removed from pandas in a future version. Use pandas.concat instead.\n",
      "  Replayed = Replayed.append([count])\n",
      "C:\\Users\\A477967\\AppData\\Local\\Temp/ipykernel_2276/3787485878.py:18: FutureWarning: The frame.append method is deprecated and will be removed from pandas in a future version. Use pandas.concat instead.\n",
      "  Replayed = Replayed.append([count])\n"
     ]
    },
    {
     "name": "stdout",
     "output_type": "stream",
     "text": [
      "0\n",
      "0\n",
      "0\n",
      "0\n",
      "0\n"
     ]
    },
    {
     "name": "stderr",
     "output_type": "stream",
     "text": [
      "C:\\Users\\A477967\\AppData\\Local\\Temp/ipykernel_2276/3787485878.py:18: FutureWarning: The frame.append method is deprecated and will be removed from pandas in a future version. Use pandas.concat instead.\n",
      "  Replayed = Replayed.append([count])\n",
      "C:\\Users\\A477967\\AppData\\Local\\Temp/ipykernel_2276/3787485878.py:18: FutureWarning: The frame.append method is deprecated and will be removed from pandas in a future version. Use pandas.concat instead.\n",
      "  Replayed = Replayed.append([count])\n",
      "C:\\Users\\A477967\\AppData\\Local\\Temp/ipykernel_2276/3787485878.py:18: FutureWarning: The frame.append method is deprecated and will be removed from pandas in a future version. Use pandas.concat instead.\n",
      "  Replayed = Replayed.append([count])\n",
      "C:\\Users\\A477967\\AppData\\Local\\Temp/ipykernel_2276/3787485878.py:18: FutureWarning: The frame.append method is deprecated and will be removed from pandas in a future version. Use pandas.concat instead.\n",
      "  Replayed = Replayed.append([count])\n",
      "C:\\Users\\A477967\\AppData\\Local\\Temp/ipykernel_2276/3787485878.py:18: FutureWarning: The frame.append method is deprecated and will be removed from pandas in a future version. Use pandas.concat instead.\n",
      "  Replayed = Replayed.append([count])\n"
     ]
    },
    {
     "name": "stdout",
     "output_type": "stream",
     "text": [
      "0\n",
      "0\n",
      "0\n",
      "0\n",
      "0\n",
      "0\n",
      "0\n",
      "0\n"
     ]
    },
    {
     "name": "stderr",
     "output_type": "stream",
     "text": [
      "C:\\Users\\A477967\\AppData\\Local\\Temp/ipykernel_2276/3787485878.py:18: FutureWarning: The frame.append method is deprecated and will be removed from pandas in a future version. Use pandas.concat instead.\n",
      "  Replayed = Replayed.append([count])\n",
      "C:\\Users\\A477967\\AppData\\Local\\Temp/ipykernel_2276/3787485878.py:18: FutureWarning: The frame.append method is deprecated and will be removed from pandas in a future version. Use pandas.concat instead.\n",
      "  Replayed = Replayed.append([count])\n",
      "C:\\Users\\A477967\\AppData\\Local\\Temp/ipykernel_2276/3787485878.py:18: FutureWarning: The frame.append method is deprecated and will be removed from pandas in a future version. Use pandas.concat instead.\n",
      "  Replayed = Replayed.append([count])\n",
      "C:\\Users\\A477967\\AppData\\Local\\Temp/ipykernel_2276/3787485878.py:18: FutureWarning: The frame.append method is deprecated and will be removed from pandas in a future version. Use pandas.concat instead.\n",
      "  Replayed = Replayed.append([count])\n",
      "C:\\Users\\A477967\\AppData\\Local\\Temp/ipykernel_2276/3787485878.py:18: FutureWarning: The frame.append method is deprecated and will be removed from pandas in a future version. Use pandas.concat instead.\n",
      "  Replayed = Replayed.append([count])\n",
      "C:\\Users\\A477967\\AppData\\Local\\Temp/ipykernel_2276/3787485878.py:18: FutureWarning: The frame.append method is deprecated and will be removed from pandas in a future version. Use pandas.concat instead.\n",
      "  Replayed = Replayed.append([count])\n",
      "C:\\Users\\A477967\\AppData\\Local\\Temp/ipykernel_2276/3787485878.py:18: FutureWarning: The frame.append method is deprecated and will be removed from pandas in a future version. Use pandas.concat instead.\n",
      "  Replayed = Replayed.append([count])\n"
     ]
    },
    {
     "name": "stdout",
     "output_type": "stream",
     "text": [
      "0\n",
      "0\n",
      "0\n",
      "0\n",
      "0\n",
      "0\n",
      "0\n"
     ]
    },
    {
     "name": "stderr",
     "output_type": "stream",
     "text": [
      "C:\\Users\\A477967\\AppData\\Local\\Temp/ipykernel_2276/3787485878.py:18: FutureWarning: The frame.append method is deprecated and will be removed from pandas in a future version. Use pandas.concat instead.\n",
      "  Replayed = Replayed.append([count])\n",
      "C:\\Users\\A477967\\AppData\\Local\\Temp/ipykernel_2276/3787485878.py:18: FutureWarning: The frame.append method is deprecated and will be removed from pandas in a future version. Use pandas.concat instead.\n",
      "  Replayed = Replayed.append([count])\n",
      "C:\\Users\\A477967\\AppData\\Local\\Temp/ipykernel_2276/3787485878.py:18: FutureWarning: The frame.append method is deprecated and will be removed from pandas in a future version. Use pandas.concat instead.\n",
      "  Replayed = Replayed.append([count])\n",
      "C:\\Users\\A477967\\AppData\\Local\\Temp/ipykernel_2276/3787485878.py:18: FutureWarning: The frame.append method is deprecated and will be removed from pandas in a future version. Use pandas.concat instead.\n",
      "  Replayed = Replayed.append([count])\n",
      "C:\\Users\\A477967\\AppData\\Local\\Temp/ipykernel_2276/3787485878.py:18: FutureWarning: The frame.append method is deprecated and will be removed from pandas in a future version. Use pandas.concat instead.\n",
      "  Replayed = Replayed.append([count])\n",
      "C:\\Users\\A477967\\AppData\\Local\\Temp/ipykernel_2276/3787485878.py:18: FutureWarning: The frame.append method is deprecated and will be removed from pandas in a future version. Use pandas.concat instead.\n",
      "  Replayed = Replayed.append([count])\n",
      "C:\\Users\\A477967\\AppData\\Local\\Temp/ipykernel_2276/3787485878.py:18: FutureWarning: The frame.append method is deprecated and will be removed from pandas in a future version. Use pandas.concat instead.\n",
      "  Replayed = Replayed.append([count])\n",
      "C:\\Users\\A477967\\AppData\\Local\\Temp/ipykernel_2276/3787485878.py:18: FutureWarning: The frame.append method is deprecated and will be removed from pandas in a future version. Use pandas.concat instead.\n",
      "  Replayed = Replayed.append([count])\n",
      "C:\\Users\\A477967\\AppData\\Local\\Temp/ipykernel_2276/3787485878.py:18: FutureWarning: The frame.append method is deprecated and will be removed from pandas in a future version. Use pandas.concat instead.\n",
      "  Replayed = Replayed.append([count])\n",
      "C:\\Users\\A477967\\AppData\\Local\\Temp/ipykernel_2276/3787485878.py:18: FutureWarning: The frame.append method is deprecated and will be removed from pandas in a future version. Use pandas.concat instead.\n",
      "  Replayed = Replayed.append([count])\n"
     ]
    },
    {
     "name": "stdout",
     "output_type": "stream",
     "text": [
      "0\n",
      "0\n",
      "0\n",
      "0\n",
      "0\n"
     ]
    },
    {
     "name": "stderr",
     "output_type": "stream",
     "text": [
      "C:\\Users\\A477967\\AppData\\Local\\Temp/ipykernel_2276/3787485878.py:18: FutureWarning: The frame.append method is deprecated and will be removed from pandas in a future version. Use pandas.concat instead.\n",
      "  Replayed = Replayed.append([count])\n",
      "C:\\Users\\A477967\\AppData\\Local\\Temp/ipykernel_2276/3787485878.py:18: FutureWarning: The frame.append method is deprecated and will be removed from pandas in a future version. Use pandas.concat instead.\n",
      "  Replayed = Replayed.append([count])\n",
      "C:\\Users\\A477967\\AppData\\Local\\Temp/ipykernel_2276/3787485878.py:18: FutureWarning: The frame.append method is deprecated and will be removed from pandas in a future version. Use pandas.concat instead.\n",
      "  Replayed = Replayed.append([count])\n",
      "C:\\Users\\A477967\\AppData\\Local\\Temp/ipykernel_2276/3787485878.py:18: FutureWarning: The frame.append method is deprecated and will be removed from pandas in a future version. Use pandas.concat instead.\n",
      "  Replayed = Replayed.append([count])\n",
      "C:\\Users\\A477967\\AppData\\Local\\Temp/ipykernel_2276/3787485878.py:18: FutureWarning: The frame.append method is deprecated and will be removed from pandas in a future version. Use pandas.concat instead.\n",
      "  Replayed = Replayed.append([count])\n",
      "C:\\Users\\A477967\\AppData\\Local\\Temp/ipykernel_2276/3787485878.py:18: FutureWarning: The frame.append method is deprecated and will be removed from pandas in a future version. Use pandas.concat instead.\n",
      "  Replayed = Replayed.append([count])\n"
     ]
    },
    {
     "name": "stdout",
     "output_type": "stream",
     "text": [
      "0\n",
      "0\n",
      "0\n",
      "0\n",
      "0\n",
      "0\n"
     ]
    },
    {
     "name": "stderr",
     "output_type": "stream",
     "text": [
      "C:\\Users\\A477967\\AppData\\Local\\Temp/ipykernel_2276/3787485878.py:18: FutureWarning: The frame.append method is deprecated and will be removed from pandas in a future version. Use pandas.concat instead.\n",
      "  Replayed = Replayed.append([count])\n",
      "C:\\Users\\A477967\\AppData\\Local\\Temp/ipykernel_2276/3787485878.py:18: FutureWarning: The frame.append method is deprecated and will be removed from pandas in a future version. Use pandas.concat instead.\n",
      "  Replayed = Replayed.append([count])\n",
      "C:\\Users\\A477967\\AppData\\Local\\Temp/ipykernel_2276/3787485878.py:18: FutureWarning: The frame.append method is deprecated and will be removed from pandas in a future version. Use pandas.concat instead.\n",
      "  Replayed = Replayed.append([count])\n",
      "C:\\Users\\A477967\\AppData\\Local\\Temp/ipykernel_2276/3787485878.py:18: FutureWarning: The frame.append method is deprecated and will be removed from pandas in a future version. Use pandas.concat instead.\n",
      "  Replayed = Replayed.append([count])\n",
      "C:\\Users\\A477967\\AppData\\Local\\Temp/ipykernel_2276/3787485878.py:18: FutureWarning: The frame.append method is deprecated and will be removed from pandas in a future version. Use pandas.concat instead.\n",
      "  Replayed = Replayed.append([count])\n",
      "C:\\Users\\A477967\\AppData\\Local\\Temp/ipykernel_2276/3787485878.py:18: FutureWarning: The frame.append method is deprecated and will be removed from pandas in a future version. Use pandas.concat instead.\n",
      "  Replayed = Replayed.append([count])\n",
      "C:\\Users\\A477967\\AppData\\Local\\Temp/ipykernel_2276/3787485878.py:18: FutureWarning: The frame.append method is deprecated and will be removed from pandas in a future version. Use pandas.concat instead.\n",
      "  Replayed = Replayed.append([count])\n"
     ]
    },
    {
     "name": "stdout",
     "output_type": "stream",
     "text": [
      "0\n",
      "0\n",
      "0\n",
      "0\n",
      "0\n",
      "0\n",
      "0\n",
      "0\n",
      "0\n"
     ]
    },
    {
     "name": "stderr",
     "output_type": "stream",
     "text": [
      "C:\\Users\\A477967\\AppData\\Local\\Temp/ipykernel_2276/3787485878.py:18: FutureWarning: The frame.append method is deprecated and will be removed from pandas in a future version. Use pandas.concat instead.\n",
      "  Replayed = Replayed.append([count])\n",
      "C:\\Users\\A477967\\AppData\\Local\\Temp/ipykernel_2276/3787485878.py:18: FutureWarning: The frame.append method is deprecated and will be removed from pandas in a future version. Use pandas.concat instead.\n",
      "  Replayed = Replayed.append([count])\n",
      "C:\\Users\\A477967\\AppData\\Local\\Temp/ipykernel_2276/3787485878.py:18: FutureWarning: The frame.append method is deprecated and will be removed from pandas in a future version. Use pandas.concat instead.\n",
      "  Replayed = Replayed.append([count])\n"
     ]
    }
   ],
   "source": [
    "import pandas as pd\n",
    "Replayed = pd.DataFrame([])\n",
    "for _ in range(0,100):\n",
    "    d = {}\n",
    "    a = get_random_bytes(4).hex()\n",
    "    b = get_random_bytes(4).hex()\n",
    "    d[a] = 1\n",
    "    d[b] = 1\n",
    "    count = 0\n",
    "    print(count)\n",
    "    while a != b:\n",
    "        b = get_random_bytes(4).hex()\n",
    "        if b in d:\n",
    "            break\n",
    "        else: d[b] = 1\n",
    "        count = count +1;\n",
    "    \n",
    "    Replayed = Replayed.append([count])"
   ]
  },
  {
   "cell_type": "code",
   "execution_count": 48,
   "id": "eaf14403",
   "metadata": {},
   "outputs": [
    {
     "data": {
      "text/plain": [
       "0    219540\n",
       "dtype: int64"
      ]
     },
     "execution_count": 48,
     "metadata": {},
     "output_type": "execute_result"
    }
   ],
   "source": [
    "Replayed.max()"
   ]
  },
  {
   "cell_type": "code",
   "execution_count": 52,
   "id": "3379a539",
   "metadata": {},
   "outputs": [
    {
     "name": "stdout",
     "output_type": "stream",
     "text": [
      "0\n"
     ]
    }
   ],
   "source": [
    "    d = {}\n",
    "    a = get_random_bytes(4).hex()\n",
    "    b = get_random_bytes(4).hex()\n",
    "    d[a] = 1\n",
    "    d[b] = 1\n",
    "    count = 0\n",
    "    print(count)\n",
    "    while a != b:\n",
    "        b = get_random_bytes(4).hex()\n",
    "        if b in d:\n",
    "            break\n",
    "        else: d[b] = 1\n",
    "        count = count +1;"
   ]
  },
  {
   "cell_type": "code",
   "execution_count": 53,
   "id": "9534dbef",
   "metadata": {},
   "outputs": [
    {
     "name": "stdout",
     "output_type": "stream",
     "text": [
      "113474\n"
     ]
    }
   ],
   "source": [
    "print(count)"
   ]
  },
  {
   "cell_type": "code",
   "execution_count": null,
   "id": "5fb55013",
   "metadata": {},
   "outputs": [],
   "source": []
  }
 ],
 "metadata": {
  "kernelspec": {
   "display_name": "Python 3 (ipykernel)",
   "language": "python",
   "name": "python3"
  },
  "language_info": {
   "codemirror_mode": {
    "name": "ipython",
    "version": 3
   },
   "file_extension": ".py",
   "mimetype": "text/x-python",
   "name": "python",
   "nbconvert_exporter": "python",
   "pygments_lexer": "ipython3",
   "version": "3.9.7"
  }
 },
 "nbformat": 4,
 "nbformat_minor": 5
}
